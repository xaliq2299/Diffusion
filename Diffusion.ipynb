{
  "nbformat": 4,
  "nbformat_minor": 0,
  "metadata": {
    "colab": {
      "name": "CSfPh_HW.ipynb",
      "provenance": [],
      "collapsed_sections": [],
      "toc_visible": true
    },
    "kernelspec": {
      "name": "python3",
      "display_name": "Python 3"
    }
  },
  "cells": [
    {
      "cell_type": "markdown",
      "metadata": {
        "id": "RrRXEukvuXFB",
        "colab_type": "text"
      },
      "source": [
        "# Computer Science for Physics and Chemistry: Homework\n",
        "This exercise is about the modeling of the diffusion of particles in physics or chemistry.\n",
        "It is composed of two parts, one simulating the diffusion in one dimension and one in\n",
        "a plane."
      ]
    },
    {
      "cell_type": "markdown",
      "metadata": {
        "id": "LVKuy61eurye",
        "colab_type": "text"
      },
      "source": [
        "#### Preliminary issues: importing libraries"
      ]
    },
    {
      "cell_type": "code",
      "metadata": {
        "id": "P3X92p23uIVm",
        "colab_type": "code",
        "colab": {}
      },
      "source": [
        "import random\n",
        "import numpy as np\n",
        "import scipy.stats as sc\n",
        "import matplotlib.pyplot as plt\n",
        "import math\n",
        "from scipy.optimize import curve_fit"
      ],
      "execution_count": 0,
      "outputs": []
    },
    {
      "cell_type": "markdown",
      "metadata": {
        "id": "Zw7Lh9a-u-X7",
        "colab_type": "text"
      },
      "source": [
        "## First part\n",
        "### Diffusion in 1 dimension: the drunk walker"
      ]
    },
    {
      "cell_type": "markdown",
      "metadata": {
        "id": "8f9-cRR_vnp6",
        "colab_type": "text"
      },
      "source": [
        "#### Question 1"
      ]
    },
    {
      "cell_type": "code",
      "metadata": {
        "id": "FyqsY1mRvyf5",
        "colab_type": "code",
        "colab": {}
      },
      "source": [
        "def final_position1D(p,N):\n",
        "  position=0\n",
        "  for i in range(N):\n",
        "    rand_num = np.random.uniform(0,1)\n",
        "    #print(rand_num)\n",
        "    if rand_num <= p:\n",
        "      position += 1\n",
        "    else:\n",
        "      position -= 1\n",
        "  return position"
      ],
      "execution_count": 0,
      "outputs": []
    },
    {
      "cell_type": "markdown",
      "metadata": {
        "id": "nDO9tR48mOD4",
        "colab_type": "text"
      },
      "source": [
        "##### Testing"
      ]
    },
    {
      "cell_type": "code",
      "metadata": {
        "id": "NI_2MmifmNEG",
        "colab_type": "code",
        "outputId": "6194afd5-ede7-44ad-af31-7db0aaa523b2",
        "colab": {
          "base_uri": "https://localhost:8080/",
          "height": 50
        }
      },
      "source": [
        "print(final_position1D(0.5,200))\n",
        "print(final_position1D(0.75,100))"
      ],
      "execution_count": 0,
      "outputs": [
        {
          "output_type": "stream",
          "text": [
            "-10\n",
            "44\n"
          ],
          "name": "stdout"
        }
      ]
    },
    {
      "cell_type": "markdown",
      "metadata": {
        "id": "iPFvea6X8bhN",
        "colab_type": "text"
      },
      "source": [
        "* Description of script: \\\\\n",
        "The function above with arguments *p (probability)* and *N (number of steps)* will calculate the final position of a random walker. At the beginning, the position is set to 0. Then for each step, random value in the range [0,1] is generated. If it is less (more) than the probability *p* of a random walker to go one step ahead, then we will increment (decrement) the position. At the end, the final position of a random walker is returned.\n",
        "* Modules and functions used: \\\\\n",
        "In order to deal with *randomness*, the *uniform* method from *numpy.random* is used: uniform(0,1) will generate floating point numbers within the range [0,1]. \\\\\n",
        "* Testing: \\\\\n",
        "After the function You can see the testing in order to be sure of the results it produces. The outputs are quite random which is perfectly OK."
      ]
    },
    {
      "cell_type": "markdown",
      "metadata": {
        "id": "VbkwA7UpD5BL",
        "colab_type": "text"
      },
      "source": [
        "#### Question 2"
      ]
    },
    {
      "cell_type": "code",
      "metadata": {
        "id": "gbtugkxhxUV_",
        "colab_type": "code",
        "outputId": "6bd6f2db-2185-4391-ab8a-c1a87b458605",
        "colab": {
          "base_uri": "https://localhost:8080/",
          "height": 163
        }
      },
      "source": [
        "p=0.5 # probability to move forward\n",
        "N=1000 # number of steps\n",
        "times=100\n",
        "positions=np.zeros(times) # initializing an array of size 'times' filled with 0s\n",
        "for i in range(times):\n",
        "  positions[i]=final_position1D(p,N)\n",
        "print('positions = ' + str(positions))\n",
        "print('mean (or expected value) = ' + str(positions.mean()) )"
      ],
      "execution_count": 0,
      "outputs": [
        {
          "output_type": "stream",
          "text": [
            "positions = [ 32.   6. -26. -12.  12.  18.  16.  20. -32.  34. -42.   0.  10.  -4.\n",
            " -18. -26.  12. -44. -40. -30.   4.  76. -22.  22.  50.   8.  16.  10.\n",
            "   6.   8.  -6.  20.  24.  26. -34.  38. -14.  22. -48. -56. -22. -28.\n",
            "  -4.  38.  -4. -42.  30.  44.  22. -24.  48.   8.  30.   6. -34.  18.\n",
            "  30.   4.   4.  20. -10.   6. -50.   2. -38.   6. -20.  -6. -38.  40.\n",
            " -26. -16. -50. -64.  -8.  14.  26.  -4. -32.  40.  -6.  60.  30.  62.\n",
            " -12.  -4. -18.   4.  18.  18. -10.  -8. -38.  -6.   6. -34. -22.   2.\n",
            "  32.  20.]\n",
            "mean (or expected value) = 0.46\n"
          ],
          "name": "stdout"
        }
      ]
    },
    {
      "cell_type": "markdown",
      "metadata": {
        "id": "8K5IHV36F9bQ",
        "colab_type": "text"
      },
      "source": [
        "* Description of script: \\\\\n",
        "As the question asks, the function *final_position()* is called 100 times with the arguments p=0.5 and N=1000.\n",
        "* Modules and functions used:\n",
        " * The *zeros()* method of *numpy* module: used to store each time the final position of a walker. The numpy array of size 'times' is used and initialized with 0s using this method. \n",
        " * *mean()* method of *numpy* module: used to calculate the mean of numpy array *positions*.\n",
        "* Testing: \\\\\n",
        "The testing of the function *final_position* can be seen here much more clearly, since the numpy array *positions* presents the randomness of the values.\n",
        "* Results and Analysis: \\\\\n",
        "Theoretically the expected final position for probability=0.5 should be 0 (which is the initial position of a walker), because the probability of moving forward and moving backward is the same. Our expectation matches with the theory, since the mean (or expected value) of *positions* array shows the value close to 0."
      ]
    },
    {
      "cell_type": "markdown",
      "metadata": {
        "id": "GyiJ2WgPLYpq",
        "colab_type": "text"
      },
      "source": [
        "#### Question 3"
      ]
    },
    {
      "cell_type": "code",
      "metadata": {
        "id": "QFWU_fRSLcu2",
        "colab_type": "code",
        "outputId": "e61de318-ae6d-40a9-d071-d0942b2fe04a",
        "colab": {
          "base_uri": "https://localhost:8080/",
          "height": 313
        }
      },
      "source": [
        "plt.hist(positions, edgecolor='black')\n",
        "plt.title('Histogram of positions')\n",
        "print(\"Standard deviation sigma1000 =\", positions.std())\n",
        "print(\"Shapiro process: \", sc.shapiro(positions))"
      ],
      "execution_count": 0,
      "outputs": [
        {
          "output_type": "stream",
          "text": [
            "Standard deviation sigma1000 = 28.339167242528493\n",
            "Shapiro process:  (0.9920783638954163, 0.8268753886222839)\n"
          ],
          "name": "stdout"
        },
        {
          "output_type": "display_data",
          "data": {
            "image/png": "[encoded data removed]",
            "text/plain": [
              "<Figure size 432x288 with 1 Axes>"
            ]
          },
          "metadata": {
            "tags": []
          }
        }
      ]
    },
    {
      "cell_type": "markdown",
      "metadata": {
        "id": "nKcJA5o-Oq7q",
        "colab_type": "text"
      },
      "source": [
        "* Description of script: \\\\\n",
        "As the question asks, the result is represented as histogram. In addition, standard deviation is calculated for the *positions* array that we got above and Shapiro process is applied.\n",
        "* Modules and functions used:\n",
        " * The *hist()* method of *matpotlib* module: used to plot histogram.\n",
        " * The *std()* method of *numpy* module: used to find standard deviation.\n",
        " * The *shapiro()* method of *scipy.stats* module: used to apply Shapiro process.\n",
        "* Results and Analysis: \\\\\n",
        "From the histogram, our data seems to follow a normal distribution. But to be certain about that the Shapiro process is applied: p-value > 0.05, which is OK to say that the distribution is Gaussian."
      ]
    },
    {
      "cell_type": "markdown",
      "metadata": {
        "id": "fPExKd9XVNwo",
        "colab_type": "text"
      },
      "source": [
        "#### Question 4"
      ]
    },
    {
      "cell_type": "code",
      "metadata": {
        "id": "3fxaVb-WVWUa",
        "colab_type": "code",
        "outputId": "311d200e-3acd-4c72-b620-0b74b0f7a814",
        "colab": {
          "base_uri": "https://localhost:8080/",
          "height": 1153
        }
      },
      "source": [
        "p=0.5 # probability to move forward\n",
        "steps=np.array([20,50,100,200]) # number of steps\n",
        "stdevs=[None]*len(steps)\n",
        "times=100\n",
        "positions=np.zeros((len(steps),times)) # initializing an array of size 'times' filled with 0s\n",
        "for i in range(len(steps)):\n",
        "  for j in range(times):\n",
        "    positions[i][j]=final_position1D(p,steps[i])\n",
        "\n",
        "# Printing resulting positions, expected values, standard deviations and Shapiro process\n",
        "for i in range(len(steps)):\n",
        "  print(\"steps = \" + str(steps[i]))\n",
        "  print('positions = ' + str(positions[i]))\n",
        "  print('mean (or expected value) = ' + str(positions[i].mean()) )\n",
        "  stdevs[i]=positions[i].std()\n",
        "  print(\"Standard deviation sigma(\"+str(steps[i])+\") =\", stdevs[i])\n",
        "  print(\"Shapiro process: \", sc.shapiro(positions[i]))\n",
        "  print()\n",
        "\n",
        "# Plotting histograms\n",
        "fig, axs = plt.subplots(len(steps))\n",
        "fig.tight_layout()\n",
        "for i in range(len(steps)):\n",
        "  axs[i].title.set_text('Steps=' +str(steps[i]) )\n",
        "  axs[i].hist(positions[i])"
      ],
      "execution_count": 0,
      "outputs": [
        {
          "output_type": "stream",
          "text": [
            "steps = 20\n",
            "positions = [  0.   0.   4.   0.  -2.  -2.   6.   6.  -2.  -4.  -2.  -4.   6.   0.\n",
            "   8.  -4.   8.   0.   2.  -2.  -2.  -4.  -2.   6.  -2.  -4.  -2.   6.\n",
            "  -2.  -6.  -4.  -6. -10.   8.   0.   0.   0.  -2.  -4.  -6.  -8.  -6.\n",
            "   8.  -2.  -4.   2.   0.   2.   4.   2.  -8.  -4.   2.   0.   6.  -6.\n",
            "   6.   0.   2.  -6.  -4.   6.   2.   4.   2.  -8.   0.   0.  -4.   4.\n",
            "   6.  -2.  -4.   6.   6.  -2.  -2.   0.   6.   2.   2.   0.   6.  -4.\n",
            "   2.  -2.   2.  -4.  -6.   8.  -4.   8.  -6.   2.  -2.  -2.   8.  -6.\n",
            "  -4.  -8.]\n",
            "mean (or expected value) = -0.2\n",
            "Standard deviation sigma(20) = 4.512205669071391\n",
            "Shapiro process:  (0.9524775743484497, 0.0012124391505494714)\n",
            "\n",
            "steps = 50\n",
            "positions = [ -2.  -6.  -4. -10.  -2.  -6.   6.   2.   2.   4.   0.  -4.   2.  -2.\n",
            "   8.  12.   6.  -8.  12.   0. -10.   2.   0.   0.  -4.  -6.  -8.   0.\n",
            "  -4.  -2. -10.   8.  14.   0.  22.  12.   2.  -8.   6.   0.   0.  -6.\n",
            "   8.   8. -12.  16.   0.   4.   2.   4.   4.   2.   2.  16.   8. -10.\n",
            "  -4.   0.  -4.   8.  -4.  10.  10.  -2.   4.   2. -10.   6.  12.   0.\n",
            "  12. -12.  -8. -10.   2. -10.  -8.  14.   6.  -4.   4. -14.   0.  -2.\n",
            "   0.  -8.   4.  -2.  -2.  10.  -2.  10.  16.  10.  14. -10.  -4.   0.\n",
            "   0.  -2.]\n",
            "mean (or expected value) = 1.02\n",
            "Standard deviation sigma(50) = 7.5285855245191975\n",
            "Shapiro process:  (0.9770798683166504, 0.07854066789150238)\n",
            "\n",
            "steps = 100\n",
            "positions = [-18.   2.  -4. -10.  16.  32.  -6.   2.  -8. -14.  16. -12.   8.   8.\n",
            "   0. -24.   6.  12.  -6.  12.   4.  18.   6.   2. -10.  -6.  -2.  -8.\n",
            "  -6. -16. -10. -14.   8.   6.   4.   6.   8.  14. -10.  14. -18. -10.\n",
            " -10.   2.   2. -36. -18.   4.   4.   6.   8.   0.  -2.   6.  -4.   6.\n",
            "  -4.   0. -10.  -6. -30.  -8.  14. -10. -14.   2.   2.   4.   4.   4.\n",
            "   0.  12.  -6.   0.  -4.  12.   6.  -8.   6.   2. -12.  20.   2. -16.\n",
            " -14. -12. -12.  14.   2.   0.   2. -26.  18.   8.   0.  12.  -4. -14.\n",
            " -12.   8.]\n",
            "mean (or expected value) = -1.08\n",
            "Standard deviation sigma(100) = 11.354012506598714\n",
            "Shapiro process:  (0.9846249222755432, 0.2983214259147644)\n",
            "\n",
            "steps = 200\n",
            "positions = [ -2. -12.  28.  -6. -22. -14. -16.   2.  -8. -16.   2.  -8.   4. -10.\n",
            "  14.  -2. -14.  30.   8. -24.   4.   8.  -4. -18.  -2.  16.  -4.  12.\n",
            "   8.  30. -10. -10.   0. -24.  -2.  16.  -2.  10.  -4.  -6.  10.   2.\n",
            " -10.  14.  -2. -34.  -8.  10.  22.  14.  14.  14.  -2.   2.  -6.  30.\n",
            " -22. -12. -14.   2. -28.   2.  -6.  -2.  26. -12. -22.   0.   6. -22.\n",
            "  -2. -44.  12. -18.  -4.   6. -24.   4. -12. -12.  18.  16.  -6.   6.\n",
            " -24.  -4.  -6. -28.  26. -16.  10. -12.  -2.  -8. -18.  12.   2.  -6.\n",
            " -30.  34.]\n",
            "mean (or expected value) = -2.12\n",
            "Standard deviation sigma(200) = 15.27303506183365\n",
            "Shapiro process:  (0.9903478622436523, 0.6927211880683899)\n",
            "\n"
          ],
          "name": "stdout"
        },
        {
          "output_type": "display_data",
          "data": {
            "image/png": "[encoded data removed]",
            "text/plain": [
              "<Figure size 432x288 with 4 Axes>"
            ]
          },
          "metadata": {
            "tags": []
          }
        }
      ]
    },
    {
      "cell_type": "markdown",
      "metadata": {
        "id": "Exv0OJ3cOLXW",
        "colab_type": "text"
      },
      "source": [
        "It is the same question than Question 2 except the fact that we should do the same process for different values of steps. We created a numpy array that will hold all these values and did the same process as before for each value."
      ]
    },
    {
      "cell_type": "markdown",
      "metadata": {
        "id": "HDiJp0_BocIB",
        "colab_type": "text"
      },
      "source": [
        "##### Standard deviation fitting"
      ]
    },
    {
      "cell_type": "code",
      "metadata": {
        "id": "Y_If1zEMoegE",
        "colab_type": "code",
        "outputId": "b8a7c48f-df6e-44b4-e1b8-5dd051460e2c",
        "colab": {
          "base_uri": "https://localhost:8080/",
          "height": 293
        }
      },
      "source": [
        "# Test function with coefficients as parameters \n",
        "def test(x, a):\n",
        "    return a*x**.5\n",
        "\n",
        "sigma=3*steps**.5+np.random.normal(size = len(steps))\n",
        "param, param_cov = curve_fit(test, steps, sigma)\n",
        "\n",
        "#print(\"Square root function coefficients: \"+str(param)) \n",
        "#print(\"Covariance of coefficients: \"+str(param_cov)) \n",
        "\n",
        "# ans stores the new S-data according to  \n",
        "# the coefficients given by curve-fit() function \n",
        "ans = param[0]*steps**.5\n",
        "\n",
        "# plotting\n",
        "plt.suptitle(\"sigma(N)\")\n",
        "plt.plot(steps, sigma, 'o', color ='red', label =\"data\")\n",
        "plt.plot(steps, ans, '--', color ='blue', label =\"optimized data\")\n",
        "plt.legend()\n",
        "plt.show()"
      ],
      "execution_count": 0,
      "outputs": [
        {
          "output_type": "display_data",
          "data": {
            "image/png": "[encoded data removed]",
            "text/plain": [
              "<Figure size 432x288 with 1 Axes>"
            ]
          },
          "metadata": {
            "tags": []
          }
        }
      ]
    },
    {
      "cell_type": "markdown",
      "metadata": {
        "id": "GUZtEvieP03B",
        "colab_type": "text"
      },
      "source": [
        "* Description of script: \\\\\n",
        "The story here is all about fitting the standard deviation sigma(N). In the Question 4, we get different values of sigma according to different values of N (i.e. steps). Looking at scatter plot, it looks like a square root function. So applying this, we get a normal fit.\n",
        "* Modules and functions used:\n",
        " * *normal()* method of *np.random*: used to bring some noise to our **sigma** after providing it with input **steps**.\n",
        " * *curve_fit()* method from *scipy.optimize*: used to fit a function\n",
        " * *plot()* method from *matplotlib*: used to plot the data\n",
        "* Results and Analysis: \\\\\n",
        "Seems like our function is fitted in a proper way which means our assumption about square root function was correct."
      ]
    },
    {
      "cell_type": "markdown",
      "metadata": {
        "id": "pyK3iKtEzi8t",
        "colab_type": "text"
      },
      "source": [
        "#### Question 5"
      ]
    },
    {
      "cell_type": "code",
      "metadata": {
        "id": "WxG0uU7WYESf",
        "colab_type": "code",
        "outputId": "fb97769d-836f-490d-b8a5-5c3c2dc4a19a",
        "colab": {
          "base_uri": "https://localhost:8080/",
          "height": 163
        }
      },
      "source": [
        "p=0.75 # probability to move forward\n",
        "N=1000 # number of steps\n",
        "times=100\n",
        "positions=np.zeros(times) # initializing an array of size 'times' filled with 0s\n",
        "for i in range(times):\n",
        "  positions[i]=final_position1D(p,N)\n",
        "print('positions = ' + str(positions))\n",
        "print('mean (or expected value) = ' + str(positions.mean()) )"
      ],
      "execution_count": 0,
      "outputs": [
        {
          "output_type": "stream",
          "text": [
            "positions = [514. 512. 504. 516. 470. 492. 512. 486. 522. 502. 492. 478. 558. 490.\n",
            " 492. 424. 476. 470. 464. 446. 516. 532. 514. 528. 458. 508. 484. 536.\n",
            " 446. 516. 534. 490. 486. 460. 500. 466. 492. 460. 480. 520. 470. 516.\n",
            " 484. 532. 490. 502. 504. 516. 444. 516. 484. 474. 556. 446. 524. 492.\n",
            " 496. 512. 484. 476. 518. 508. 494. 484. 498. 494. 516. 496. 492. 482.\n",
            " 544. 442. 484. 518. 518. 524. 512. 462. 470. 528. 534. 518. 456. 456.\n",
            " 540. 490. 520. 490. 518. 564. 530. 472. 510. 470. 528. 442. 494. 534.\n",
            " 522. 508.]\n",
            "mean (or expected value) = 497.44\n"
          ],
          "name": "stdout"
        }
      ]
    },
    {
      "cell_type": "markdown",
      "metadata": {
        "id": "28fvRFmk0Enh",
        "colab_type": "text"
      },
      "source": [
        "* Description of script: \\\\\n",
        "The same question as Question 2 except the fact that p=0.75 this time.\n",
        "* Modules and functions used:\n",
        " * The *zeros()* method of *numpy* module: used to store each time the final position of a walker. The numpy array of size 'times' is used and initialized with 0s using this method. \n",
        " * *mean()* method of *numpy* module: used to calculate the mean of *positions* numpy array.\n",
        "* Results and Analysis: \\\\\n",
        "Theoretically the expected final position for probability=0.75 should be 500 for 1000 steps, because the walker will move 750 steps forward and 250 steps backward out of 1000 in total. Our expectation matches with the theory, since the mean (or expected value) of *positions* array shows the value close to 500."
      ]
    },
    {
      "cell_type": "markdown",
      "metadata": {
        "id": "e_a1KNCJ1MiI",
        "colab_type": "text"
      },
      "source": [
        "## Second part\n",
        "### Diffusion in 2 dimensions: diffusion of a dye in water"
      ]
    },
    {
      "cell_type": "markdown",
      "metadata": {
        "id": "qd2URol92ymv",
        "colab_type": "text"
      },
      "source": [
        "#### Question 1"
      ]
    },
    {
      "cell_type": "markdown",
      "metadata": {
        "id": "rKEaFthM7eEq",
        "colab_type": "text"
      },
      "source": [
        "##### Movements"
      ]
    },
    {
      "cell_type": "code",
      "metadata": {
        "id": "Q51Wa_VPDbwZ",
        "colab_type": "code",
        "colab": {}
      },
      "source": [
        "def up(grid,i,j):\n",
        "  grid[i][j] -= 1\n",
        "  grid[i-1][j] += 1\n",
        "  return (grid,i-1,j)\n",
        "\n",
        "def left(grid,i,j):\n",
        "  grid[i][j] -= 1\n",
        "  grid[i][j-1] += 1\n",
        "  return (grid,i,j-1)\n",
        "\n",
        "def right(grid,i,j):\n",
        "  grid[i][j] -= 1\n",
        "  grid[i][j+1] += 1\n",
        "  return (grid,i,j+1)\n",
        "\n",
        "def down(grid,i,j):\n",
        "  grid[i][j] -= 1\n",
        "  grid[i+1][j] += 1\n",
        "  return (grid,i+1,j)"
      ],
      "execution_count": 0,
      "outputs": []
    },
    {
      "cell_type": "markdown",
      "metadata": {
        "id": "ZcMxRu9Y7hjk",
        "colab_type": "text"
      },
      "source": [
        "##### Function to find the final position of a molecule walker in 2D"
      ]
    },
    {
      "cell_type": "code",
      "metadata": {
        "id": "JDKwZJp-23XK",
        "colab_type": "code",
        "colab": {}
      },
      "source": [
        "def final_position2D(p,N,lattice,i,j): # i and j are the positions of molecule (dye) in a lattice\n",
        "  x=[] # list to store x coordinates where molecule moved\n",
        "  y=[] # list to store y coordinates where molecule moved \n",
        "  x.append(j) # adding the initial x position\n",
        "  y.append(i) # adding the initial y position\n",
        "  for counter in range(N):\n",
        "    nbDirections=0\n",
        "    directions=[]\n",
        "    if i-1>=0: # if molecule can go up\n",
        "      nbDirections+=1\n",
        "      directions.append(up)\n",
        "    if j-1>=0: # if molecule can go left\n",
        "      nbDirections+=1\n",
        "      directions.append(left)\n",
        "    if j+1<=19: # if molecule can go right\n",
        "      nbDirections+=1\n",
        "      directions.append(right)\n",
        "    if i+1<=19: # if molecule can go down\n",
        "      nbDirections+=1\n",
        "      directions.append(down)\n",
        "    #print(\"#Directions=\", nbDirections)\n",
        "    #print(\"directions possible\", directions)\n",
        "    rand_num = np.random.uniform(0,1)\n",
        "    if rand_num > p: # will not stay in its position\n",
        "      integ=random.randint(0,nbDirections-1) # choose some direction randomly\n",
        "      (lattice,i,j)=directions[integ](lattice,i,j)\n",
        "    #print(i,j)\n",
        "    x.append(j)\n",
        "    y.append(i)\n",
        "  return (x,y)"
      ],
      "execution_count": 0,
      "outputs": []
    },
    {
      "cell_type": "markdown",
      "metadata": {
        "id": "E3dSceXAHxnO",
        "colab_type": "text"
      },
      "source": [
        "##### Testing"
      ]
    },
    {
      "cell_type": "code",
      "metadata": {
        "id": "Wg52DpzB-4Wk",
        "colab_type": "code",
        "outputId": "ce2ef208-2913-4574-c918-d31f7acaa446",
        "colab": {
          "base_uri": "https://localhost:8080/",
          "height": 267
        }
      },
      "source": [
        "rows=20\n",
        "columns=20\n",
        "steps=1\n",
        "p=0.3\n",
        "lattice=np.zeros((rows, columns))\n",
        "lattice[9][9]=1 # 1 molecule at the position (9,9)\n",
        "\n",
        "(x,y)=final_position2D(p,steps,lattice,9,9)\n",
        "#print(lattice)\n",
        "#print(x)\n",
        "#print(y)\n",
        "\n",
        "# plotting\n",
        "plt.scatter(x, y, alpha=0.5)\n",
        "plt.plot(x,y)\n",
        "plt.show()"
      ],
      "execution_count": 0,
      "outputs": [
        {
          "output_type": "display_data",
          "data": {
            "image/png": "[encoded data removed]",
            "text/plain": [
              "<Figure size 432x288 with 1 Axes>"
            ]
          },
          "metadata": {
            "tags": []
          }
        }
      ]
    },
    {
      "cell_type": "markdown",
      "metadata": {
        "id": "6stVGoeT72Z_",
        "colab_type": "text"
      },
      "source": [
        "* Description of scripts:\n",
        " * First of all we defined 4 small functions which will deal with the movements to 4 different directions: up, left, right and down. After updating the values in the lattice, the updated lattice and the new position of molecule are returned.\n",
        " * There is also another function which deals with finding the final position of a walker after N steps. For each step, we first try to identify which and how many directions the walker can move to. Depending on the random number between 0 and 1 and its relation with probability *p* that is given as a parameter, we decide whether we move or stay in our current position. At the end, the positions of all the visited cells of lattice are returned.\n",
        "* Modules and functions used:\n",
        " * *random.uniform()* method from *numpy* module: used to generate probability (0<=p<=1).\n",
        " * *randint()* method from *random* module: in order to generate random integer in a given range. Used for finding the direction randomly from *directions* list, i.e. randomly generated integer will be a random index of our list which will correspond to some movement.\n",
        " * *zeros()* method of *numpy* module: used to initialize our lattice with 0s.\n",
        " * Methods *scatter()*, *plot()*, *show()* of module *matplotlib*: used to draw positions a molecule moved in a scattered plot.\n",
        "* Testing, Results and Analysis: \\\\\n",
        "We define a lattice of 20x20 with one molecule at the position (9,9) (the other cells will have value 0, because there's no molecule in those cells) and call the functions *final_position()* with the parameters p=0.3 and N=1 (only 1 step). After running it many times, we can see how randomly the molecule moves. This shows that the functions of movements work correctly from randomness point of view. In addition, printing lattice we can see the updated position of our molecule, i.e. value 1 in our lattice which indicates that only one molecule is in that cell. Printing the scatter plot gives another approach to visualize the direction the molecule moved. To see that, we can print the *x* and *y* lists that are returned by the function *final_position()*. But also note that the molecule can stay in its initial position (9,9) as well. This happens mostly when we increase the probability *p* which is the probability for a molecule to stay in its current position."
      ]
    },
    {
      "cell_type": "markdown",
      "metadata": {
        "id": "D5yGM6WVMEOJ",
        "colab_type": "text"
      },
      "source": [
        "#### Question 2"
      ]
    },
    {
      "cell_type": "code",
      "metadata": {
        "id": "08uzG613MJVr",
        "colab_type": "code",
        "outputId": "d8eaa2b5-c594-4c8a-c312-068be9fab0c7",
        "colab": {
          "base_uri": "https://localhost:8080/",
          "height": 741
        }
      },
      "source": [
        "rows=20\n",
        "columns=20\n",
        "steps=[5,10,20,50]\n",
        "p=0.2\n",
        "\n",
        "# Plotting histograms\n",
        "fig, axs = plt.subplots(len(steps),figsize=(10,10))\n",
        "fig.tight_layout()\n",
        "\n",
        "for i in range(len(steps)):\n",
        "  lattice=np.zeros((rows, columns))\n",
        "  lattice[9][9]=100\n",
        "  lattice[9][10]=100\n",
        "  lattice[10][9]=100\n",
        "  lattice[10][10]=100\n",
        "\n",
        "  for j in range(100):\n",
        "    final_position2D(p,steps[i],lattice,9,9)\n",
        "    final_position2D(p,steps[i],lattice,9,10)\n",
        "    final_position2D(p,steps[i],lattice,10,9)\n",
        "    final_position2D(p,steps[i],lattice,10,10)\n",
        "  #print(lattice)\n",
        "  x=[]\n",
        "  y=[]\n",
        "  for r in range(rows):\n",
        "    for c in range(columns):\n",
        "      if lattice[r][c] != 0:\n",
        "        x.append(c)\n",
        "        y.append(r)\n",
        "  #print(x)\n",
        "  #print(y)\n",
        "  axs[i].title.set_text('Steps=' +str(steps[i]) )\n",
        "  axs[i].scatter(x,y,alpha=0.5)"
      ],
      "execution_count": 0,
      "outputs": [
        {
          "output_type": "display_data",
          "data": {
            "image/png": "[encoded data removed]",
            "text/plain": [
              "<Figure size 720x720 with 4 Axes>"
            ]
          },
          "metadata": {
            "tags": []
          }
        }
      ]
    },
    {
      "cell_type": "markdown",
      "metadata": {
        "id": "weeBjjjgNB_F",
        "colab_type": "text"
      },
      "source": [
        "* Description of script: \\\\\n",
        "This question was almost done in the testing part of question 1, except the fact that we will change some parameters. In our lattice we will place 100 molecules in 4 center cells (the positions (9,9) (9,10) (10,9) and (10,10)) and no molecules in the others. Furthermore we set p=0.2 and we work with different values of steps (5, 10, 20 and 50). \\\\\n",
        " **Note:** Sometimes from the plots it can be seen that there are less movements than the number of steps. This is because the molecule has a right even to stay at the current position.\n",
        "* Modules and functions used: \\\\\n",
        "The same than in Question 1\n",
        "* Testing \n",
        "For each value of steps, we visualized the scattered plot. We also notice that increasing the number of steps we get a better spreadout of molecules."
      ]
    },
    {
      "cell_type": "markdown",
      "metadata": {
        "id": "HIHy_e74Rd6G",
        "colab_type": "text"
      },
      "source": [
        "#### Entropy"
      ]
    },
    {
      "cell_type": "markdown",
      "metadata": {
        "id": "t0FrFAbCRbiC",
        "colab_type": "text"
      },
      "source": [
        "In physics or chemistry, we define the notion of entropy to quantify the neatness of a\n",
        "system. For a discrete system, the entropy is calculated like this:\n",
        "\\begin{gather*}S=-k_{B}\\sum_{i} P_{i} ln(P_{i})\n",
        "\\end{gather*}\n",
        "where $k_{B}$ = 1.38$e^{−23}$ is the Boltzmann constant and $P_{i}$ is the average ratio of particles in the box i (number of particle in the box i divided by the total number of particles)."
      ]
    },
    {
      "cell_type": "code",
      "metadata": {
        "id": "hPEmelkLRxpx",
        "colab_type": "code",
        "colab": {}
      },
      "source": [
        "def find_P(p,N): # P is the average ratio of particles\n",
        "  rows=20\n",
        "  columns=20\n",
        "  lattice=np.zeros((rows, columns))\n",
        "\n",
        "  nbTotalParticles=400\n",
        "  # the four boxes at the center with 100 particles\n",
        "  lattice[9][9]=100\n",
        "  lattice[9][10]=100\n",
        "  lattice[10][9]=100\n",
        "  lattice[10][10]=100\n",
        "\n",
        "  for i in range(100):\n",
        "    final_position2D(p,N,lattice,9,9)\n",
        "    final_position2D(p,N,lattice,9,10)\n",
        "    final_position2D(p,N,lattice,10,9)\n",
        "    final_position2D(p,N,lattice,10,10)\n",
        "  #print(lattice)\n",
        "  P=lattice.flatten()\n",
        "  #print(P)\n",
        "  for i in range(nbTotalParticles):\n",
        "    P[i] /= nbTotalParticles\n",
        "  #print(np.sum(P))\n",
        "  return P"
      ],
      "execution_count": 0,
      "outputs": []
    },
    {
      "cell_type": "markdown",
      "metadata": {
        "id": "PQIeqqDlSNjj",
        "colab_type": "text"
      },
      "source": [
        "I decided to write a function that would calculate for us a 1D array which will have values of the average ratio of a particle. The testing of this function will be seen later."
      ]
    },
    {
      "cell_type": "markdown",
      "metadata": {
        "id": "9Z3rRBOiSnNc",
        "colab_type": "text"
      },
      "source": [
        "#### Question 3"
      ]
    },
    {
      "cell_type": "code",
      "metadata": {
        "id": "sRNBxKJ2SFpA",
        "colab_type": "code",
        "colab": {}
      },
      "source": [
        "def find_entropy(P):\n",
        "  kB=1.38*10**(-23)\n",
        "  sum=0\n",
        "  for i in range(len(P)):\n",
        "    if P[i] != 0:\n",
        "      sum += P[i]*math.log1p(P[i]-1)\n",
        "  S=-kB*sum\n",
        "  return S"
      ],
      "execution_count": 0,
      "outputs": []
    },
    {
      "cell_type": "markdown",
      "metadata": {
        "id": "ewOeJYX4TDzk",
        "colab_type": "text"
      },
      "source": [
        "I also decided to separate the function that would find for us entropy according to the given formula; the given parameter is P which will be calculated thanks to the function *find_P()* that is defined above. The testing of this function will be seen later."
      ]
    },
    {
      "cell_type": "code",
      "metadata": {
        "id": "ZQ93Y2DnTfxP",
        "colab_type": "code",
        "outputId": "0f0b4a18-d49f-413d-83e7-b8d0bc804633",
        "colab": {
          "base_uri": "https://localhost:8080/",
          "height": 683
        }
      },
      "source": [
        "p=0.2\n",
        "N=50\n",
        "computations=25\n",
        "P=find_P(p,N)\n",
        "for i in range(1,computations):\n",
        "  tmp=find_P(p,N)\n",
        "  P=np.add(P,tmp)\n",
        "\n",
        "# find average\n",
        "for i in range(len(P)):\n",
        "  P[i] /= computations\n",
        "print(P)\n",
        "\n",
        "print(\"Entropy =\", find_entropy(P))"
      ],
      "execution_count": 0,
      "outputs": [
        {
          "output_type": "stream",
          "text": [
            "[0.     0.0002 0.0006 0.0002 0.0006 0.0008 0.0012 0.001  0.0011 0.0006\n",
            " 0.001  0.0014 0.001  0.0006 0.0008 0.0003 0.0009 0.0002 0.0002 0.0002\n",
            " 0.0001 0.0001 0.0003 0.0006 0.0011 0.0008 0.0014 0.0017 0.0018 0.0016\n",
            " 0.0026 0.0015 0.0022 0.0014 0.0004 0.0011 0.0008 0.0004 0.0002 0.0004\n",
            " 0.0003 0.0005 0.0007 0.0009 0.001  0.0015 0.0023 0.0023 0.0014 0.0017\n",
            " 0.0014 0.0021 0.0015 0.0016 0.0013 0.0009 0.0012 0.0005 0.0002 0.0001\n",
            " 0.0004 0.0005 0.0008 0.0013 0.0008 0.0015 0.0016 0.0022 0.0021 0.0032\n",
            " 0.0038 0.0035 0.0024 0.0022 0.0017 0.001  0.0008 0.0009 0.0009 0.0002\n",
            " 0.0005 0.0004 0.0008 0.0017 0.0019 0.0017 0.0025 0.003  0.0042 0.0043\n",
            " 0.0033 0.0041 0.0031 0.0026 0.0019 0.0016 0.0009 0.0012 0.0011 0.0007\n",
            " 0.0008 0.0015 0.002  0.0013 0.0022 0.0045 0.0033 0.004  0.0045 0.0052\n",
            " 0.0046 0.0052 0.0046 0.004  0.0032 0.0021 0.0014 0.0014 0.0008 0.0008\n",
            " 0.0008 0.0016 0.0018 0.0023 0.0027 0.0043 0.0044 0.005  0.0059 0.0068\n",
            " 0.0051 0.0065 0.0052 0.0041 0.0053 0.0033 0.0021 0.0014 0.0018 0.0009\n",
            " 0.0012 0.0015 0.0017 0.0029 0.0039 0.0043 0.0043 0.0056 0.0059 0.0066\n",
            " 0.0071 0.0072 0.006  0.0064 0.0037 0.0039 0.0021 0.0018 0.0012 0.0008\n",
            " 0.0013 0.002  0.0025 0.003  0.003  0.0052 0.0054 0.0056 0.0076 0.0066\n",
            " 0.006  0.0076 0.0056 0.0061 0.0046 0.0035 0.0031 0.002  0.0016 0.001\n",
            " 0.0006 0.002  0.003  0.0032 0.0028 0.0044 0.0065 0.0062 0.0062 0.0075\n",
            " 0.0077 0.0075 0.0068 0.0046 0.0036 0.0024 0.0023 0.0028 0.0015 0.0013\n",
            " 0.001  0.0012 0.0024 0.003  0.0041 0.0052 0.0069 0.0076 0.0076 0.0077\n",
            " 0.0083 0.0064 0.0064 0.0052 0.0055 0.0046 0.0027 0.0028 0.002  0.001\n",
            " 0.0016 0.0015 0.0025 0.0033 0.0035 0.005  0.0053 0.0079 0.0085 0.0053\n",
            " 0.0068 0.0076 0.0062 0.0061 0.0043 0.0031 0.0019 0.0019 0.0011 0.0011\n",
            " 0.0012 0.0014 0.0026 0.0033 0.002  0.0043 0.0049 0.0059 0.0062 0.0048\n",
            " 0.0068 0.006  0.0054 0.0038 0.0043 0.0028 0.002  0.0023 0.0013 0.0003\n",
            " 0.0008 0.0019 0.0018 0.0024 0.0035 0.0036 0.0031 0.0053 0.0058 0.0061\n",
            " 0.0068 0.0045 0.0047 0.003  0.0032 0.0032 0.0016 0.0015 0.0012 0.0005\n",
            " 0.0008 0.0009 0.0009 0.0019 0.0026 0.0032 0.0038 0.0052 0.0049 0.0051\n",
            " 0.0047 0.0053 0.0044 0.0033 0.0025 0.0016 0.0012 0.0018 0.0009 0.0005\n",
            " 0.0006 0.0007 0.0011 0.0013 0.0017 0.0021 0.0031 0.003  0.0031 0.0045\n",
            " 0.0035 0.0038 0.0036 0.0027 0.0021 0.0013 0.001  0.0011 0.0007 0.0007\n",
            " 0.0006 0.0004 0.0007 0.0013 0.0012 0.0025 0.0024 0.0025 0.0027 0.0033\n",
            " 0.003  0.0031 0.0024 0.0022 0.0018 0.0017 0.0009 0.0008 0.0008 0.0004\n",
            " 0.0002 0.0002 0.0006 0.0012 0.0006 0.0009 0.0013 0.0016 0.0014 0.0026\n",
            " 0.0025 0.0018 0.0019 0.0014 0.0016 0.0009 0.0008 0.0004 0.0008 0.0001\n",
            " 0.0003 0.0003 0.0005 0.0005 0.0011 0.001  0.001  0.002  0.0014 0.0012\n",
            " 0.0015 0.0011 0.0009 0.0017 0.0012 0.0011 0.0005 0.0002 0.0005 0.0003\n",
            " 0.     0.0001 0.0002 0.0003 0.0005 0.0005 0.0006 0.0007 0.0008 0.0014\n",
            " 0.0011 0.0011 0.0007 0.0011 0.0006 0.0007 0.0009 0.0001 0.0002 0.0001]\n",
            "Entropy = 7.833425145083903e-23\n"
          ],
          "name": "stdout"
        }
      ]
    },
    {
      "cell_type": "markdown",
      "metadata": {
        "id": "evaJS1AxT4jc",
        "colab_type": "text"
      },
      "source": [
        "* Description of script: \\\\\n",
        "Here we run our function *find_P()* 25 times and then try to find the average value $P_{i}$ for each box. We take p=0.2 and N=steps=50. For each computation we find a new P matrix and each time those P matrices will be added and stored. At the end, the value for each cell will be divided by the number of computations to find an average. \\\\\n",
        "The final step is about finding the entropy thanks to the function defined above. The found P matrix will be a parameter for this function.\n",
        "* Modules and functions used:\n",
        " * *zeros()* method of *numpy* module: used to initialize our lattice with 0s.\n",
        " * *flatten()* method of *numpy* module: used to convert 2D array to 1D array. In our case that array is *P*.\n",
        " * *log1p()* method of *math* module: used to find ln in the formula of entropy.\n",
        " * *add()* method of *numpy* module: used to add two numpy arrays.\n",
        "* Testing, Analysis and Results: \\\\\n",
        "With the values p=0.2, N=50 and computations=25 we find an average P array which seems OK (essentially the values should be between 0 and 1). Then we find entropy based on that matrix."
      ]
    },
    {
      "cell_type": "markdown",
      "metadata": {
        "id": "gMIIoFB4cFa4",
        "colab_type": "text"
      },
      "source": [
        "#### Question 4"
      ]
    },
    {
      "cell_type": "code",
      "metadata": {
        "id": "wYQElFr-cHrs",
        "colab_type": "code",
        "outputId": "b780803a-7b9b-400c-ae22-607d98a5032e",
        "colab": {
          "base_uri": "https://localhost:8080/",
          "height": 50
        }
      },
      "source": [
        "p=0.2\n",
        "N=np.array([5,10,20,50]) # number of steps\n",
        "S=[] # entropy list\n",
        "computations=25\n",
        "for i in range(len(N)):\n",
        "  P=find_P(p,N[i])\n",
        "  for j in range(1,computations):\n",
        "    tmp=find_P(p,N[i])\n",
        "    P=np.add(P,tmp)\n",
        "\n",
        "  # find average\n",
        "  for i in range(len(P)):\n",
        "    P[i] /= computations\n",
        "  S.append(find_entropy(P))\n",
        "\n",
        "print(\"N=\"+str(N))\n",
        "print(\"S=\"+str(S))"
      ],
      "execution_count": 0,
      "outputs": [
        {
          "output_type": "stream",
          "text": [
            "N=[ 5 10 20 50]\n",
            "S=[5.017278262735841e-23, 5.89626969647348e-23, 6.780223873341999e-23, 7.830444781081433e-23]\n"
          ],
          "name": "stdout"
        }
      ]
    },
    {
      "cell_type": "markdown",
      "metadata": {
        "id": "RFN_Wv-Yd5Sg",
        "colab_type": "text"
      },
      "source": [
        "* Description of script: \\\\\n",
        "We did the same process than question 3 except the fact that we tried other values for steps. As a result, we have different values for entropies and this dependency will be plotted as a graph S(N) later.\n",
        "* Modules and functions used: \\\\\n",
        "The only new method is *plot()* of *matplotlib* which is known as a method to draw functions."
      ]
    },
    {
      "cell_type": "markdown",
      "metadata": {
        "id": "go3ZRLANhGP8",
        "colab_type": "text"
      },
      "source": [
        "##### Fitting the variation of entropy"
      ]
    },
    {
      "cell_type": "code",
      "metadata": {
        "id": "hfrGJvHTfB7i",
        "colab_type": "code",
        "outputId": "466a6941-6698-4857-86d7-4515fc62a867",
        "colab": {
          "base_uri": "https://localhost:8080/",
          "height": 278
        }
      },
      "source": [
        "# Test function with coefficients as parameters \n",
        "def test(x, a): \n",
        "    return a * x**.5\n",
        "\n",
        "S = 3 * N**.5 + np.random.normal(size = len(N))\n",
        "param, param_cov = curve_fit(test, N, S)\n",
        "\n",
        "#print(\"Square root function coefficients:\") \n",
        "#print(param)\n",
        "#print(\"Covariance of coefficients:\") \n",
        "#print(param_cov)\n",
        "\n",
        "# ans stores the new S-data according to  \n",
        "# the coefficients given by curve-fit() function \n",
        "ans = param[0]*N**.5\n",
        "\n",
        "# plotting\n",
        "plt.plot(N, S, 'o', color ='red', label =\"data\") \n",
        "plt.plot(N, ans, '--', color ='blue', label =\"optimized data\")\n",
        "plt.xlabel(\"number of steps\")\n",
        "plt.ylabel(\"Entropy\")\n",
        "plt.legend() \n",
        "plt.show() "
      ],
      "execution_count": 0,
      "outputs": [
        {
          "output_type": "display_data",
          "data": {
            "image/png": "[encoded data removed]",
            "text/plain": [
              "<Figure size 432x288 with 1 Axes>"
            ]
          },
          "metadata": {
            "tags": []
          }
        }
      ]
    },
    {
      "cell_type": "markdown",
      "metadata": {
        "id": "K3-d7_zHjaMM",
        "colab_type": "text"
      },
      "source": [
        "We were asked to find a mathematical function that fits the variation of entropy with respect to the number of time steps S(N). After drawing the scatter plot it looked like a square root function. After applying the *curve_fit()* method of *scipy.optimize*, we see that data is fitted well by that function."
      ]
    }
  ]
}